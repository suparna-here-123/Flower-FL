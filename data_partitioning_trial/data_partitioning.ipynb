{
 "cells": [
  {
   "cell_type": "code",
   "execution_count": 5,
   "id": "54a83408",
   "metadata": {},
   "outputs": [],
   "source": [
    "from torchvision.datasets import MNIST\n",
    "train = MNIST(\"./trial_data\", train = True, download = True)"
   ]
  },
  {
   "cell_type": "code",
   "execution_count": 8,
   "id": "0561aea4",
   "metadata": {},
   "outputs": [
    {
     "name": "stdout",
     "output_type": "stream",
     "text": [
      "[15000, 15000, 15000, 15000]\n"
     ]
    }
   ],
   "source": [
    "NUM_PARTS = 4\n",
    "per_part = len(train.data) // NUM_PARTS\n",
    "ratios = NUM_PARTS * [per_part]\n",
    "print(ratios)"
   ]
  },
  {
   "cell_type": "code",
   "execution_count": 9,
   "id": "07820eb2",
   "metadata": {},
   "outputs": [],
   "source": [
    "import torch\n",
    "data_partitions = torch.split(train.data, ratios)\n",
    "target_partitions = torch.split(train.targets, ratios)"
   ]
  },
  {
   "cell_type": "code",
   "execution_count": 10,
   "id": "6f6c41ae",
   "metadata": {},
   "outputs": [],
   "source": [
    "# Saving the partitioned data and targets as .pt files\n",
    "import os\n",
    "os.makedirs('./partitions', exist_ok = True)\n",
    "\n",
    "for i in range(NUM_PARTS) :\n",
    "    torch.save(data_partitions[i], f'./partitions/data_{i}.pt')\n",
    "    torch.save(target_partitions[i], f'./partitions/targets_{i}.pt')\n",
    "    "
   ]
  }
 ],
 "metadata": {
  "kernelspec": {
   "display_name": "flower_kernel",
   "language": "python",
   "name": "flower_env"
  },
  "language_info": {
   "codemirror_mode": {
    "name": "ipython",
    "version": 3
   },
   "file_extension": ".py",
   "mimetype": "text/x-python",
   "name": "python",
   "nbconvert_exporter": "python",
   "pygments_lexer": "ipython3",
   "version": "3.12.3"
  }
 },
 "nbformat": 4,
 "nbformat_minor": 5
}
