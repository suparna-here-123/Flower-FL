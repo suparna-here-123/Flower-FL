{
 "cells": [
  {
   "cell_type": "code",
   "execution_count": 5,
   "id": "54a83408",
   "metadata": {},
   "outputs": [],
   "source": [
    "from torchvision.datasets import MNIST\n",
    "train = MNIST(\"./trial_data\", train = True, download = True)"
   ]
  },
  {
   "cell_type": "code",
   "execution_count": 8,
   "id": "0561aea4",
   "metadata": {},
   "outputs": [
    {
     "name": "stdout",
     "output_type": "stream",
     "text": [
      "[15000, 15000, 15000, 15000]\n"
     ]
    }
   ],
   "source": [
    "NUM_PARTS = 4\n",
    "per_part = len(train.data) // NUM_PARTS\n",
    "ratios = NUM_PARTS * [per_part]\n",
    "print(ratios)"
   ]
  },
  {
   "cell_type": "code",
   "execution_count": 9,
   "id": "07820eb2",
   "metadata": {},
   "outputs": [],
   "source": [
    "import torch\n",
    "data_partitions = torch.split(train.data, ratios)\n",
    "target_partitions = torch.split(train.targets, ratios)"
   ]
  },
  {
   "cell_type": "code",
   "execution_count": 15,
   "id": "6f6c41ae",
   "metadata": {},
   "outputs": [
    {
     "ename": "IndexError",
     "evalue": "tuple index out of range",
     "output_type": "error",
     "traceback": [
      "\u001b[0;31m---------------------------------------------------------------------------\u001b[0m",
      "\u001b[0;31mIndexError\u001b[0m                                Traceback (most recent call last)",
      "Cell \u001b[0;32mIn[15], line 6\u001b[0m\n\u001b[1;32m      3\u001b[0m os\u001b[38;5;241m.\u001b[39mmakedirs(\u001b[38;5;124m'\u001b[39m\u001b[38;5;124m./partitions\u001b[39m\u001b[38;5;124m'\u001b[39m, exist_ok \u001b[38;5;241m=\u001b[39m \u001b[38;5;28;01mTrue\u001b[39;00m)\n\u001b[1;32m      5\u001b[0m \u001b[38;5;28;01mfor\u001b[39;00m i \u001b[38;5;129;01min\u001b[39;00m \u001b[38;5;28mrange\u001b[39m(\u001b[38;5;241m1\u001b[39m, NUM_PARTS \u001b[38;5;241m+\u001b[39m \u001b[38;5;241m1\u001b[39m) :\n\u001b[0;32m----> 6\u001b[0m     torch\u001b[38;5;241m.\u001b[39msave(\u001b[43mdata_partitions\u001b[49m\u001b[43m[\u001b[49m\u001b[43mi\u001b[49m\u001b[43m]\u001b[49m, \u001b[38;5;124mf\u001b[39m\u001b[38;5;124m'\u001b[39m\u001b[38;5;124m./partitions/data_\u001b[39m\u001b[38;5;132;01m{\u001b[39;00mi\u001b[38;5;132;01m}\u001b[39;00m\u001b[38;5;124m.pt\u001b[39m\u001b[38;5;124m'\u001b[39m)\n\u001b[1;32m      7\u001b[0m     torch\u001b[38;5;241m.\u001b[39msave(target_partitions[i], \u001b[38;5;124mf\u001b[39m\u001b[38;5;124m'\u001b[39m\u001b[38;5;124m./partitions/targets_\u001b[39m\u001b[38;5;132;01m{\u001b[39;00mi\u001b[38;5;132;01m}\u001b[39;00m\u001b[38;5;124m.pt\u001b[39m\u001b[38;5;124m'\u001b[39m)\n",
      "\u001b[0;31mIndexError\u001b[0m: tuple index out of range"
     ]
    }
   ],
   "source": [
    "# Saving the partitioned data and targets as .pt files\n",
    "import os\n",
    "os.makedirs('./partitions', exist_ok = True)\n",
    "\n",
    "for i in range(NUM_PARTS) :\n",
    "    torch.save(data_partitions[i], f'./partitions/data_{i + 1}.pt')\n",
    "    torch.save(target_partitions[i], f'./partitions/targets_{i + 1}.pt')\n",
    "    "
   ]
  }
 ],
 "metadata": {
  "kernelspec": {
   "display_name": "flower_kernel",
   "language": "python",
   "name": "flower_env"
  },
  "language_info": {
   "codemirror_mode": {
    "name": "ipython",
    "version": 3
   },
   "file_extension": ".py",
   "mimetype": "text/x-python",
   "name": "python",
   "nbconvert_exporter": "python",
   "pygments_lexer": "ipython3",
   "version": "3.12.3"
  }
 },
 "nbformat": 4,
 "nbformat_minor": 5
}
